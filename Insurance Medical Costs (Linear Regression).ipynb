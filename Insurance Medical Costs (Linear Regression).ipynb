{
 "cells": [
  {
   "cell_type": "markdown",
   "metadata": {},
   "source": [
    "# U.S. Medical Insurance Costs\n",
    "\n",
    "### For this project, I will implement a Linear Regression Model to determine if a correlation exists between a male who doesn't smoke or have children and Insurane Cost. This project consists of Data Aquisition, Data Extraction, and Data Visualization."
   ]
  },
  {
   "cell_type": "code",
   "execution_count": 3,
   "metadata": {},
   "outputs": [],
   "source": [
    "import csv\n",
    "import numpy as np\n",
    "from scipy import stats\n",
    "import sys\n",
    "import matplotlib\n",
    "import matplotlib.pyplot as plt"
   ]
  },
  {
   "cell_type": "code",
   "execution_count": 4,
   "metadata": {},
   "outputs": [],
   "source": [
    "# Create lists to hold datasets\n",
    "ages = []\n",
    "gender = []\n",
    "bmis = []\n",
    "num_children = []\n",
    "is_smoker = []\n",
    "regions = []\n",
    "insurance_costs = []"
   ]
  },
  {
   "cell_type": "code",
   "execution_count": 5,
   "metadata": {},
   "outputs": [],
   "source": [
    "# Create a function that will pass the fileName, and lst\n",
    "# Open fileName and save each row's value to the respective list\n",
    "\n",
    "def save_data(csvfile,lst,attribute):\n",
    "    with open(csvfile, mode='r', newline='') as csvinfo:\n",
    "        csv_info = csv.DictReader(csvinfo)\n",
    "        for row in csv_info:\n",
    "            lst.append(row[attribute])\n",
    "    return"
   ]
  },
  {
   "cell_type": "code",
   "execution_count": 6,
   "metadata": {},
   "outputs": [],
   "source": [
    "# Get data set for each attribute\n",
    "save_data(\"C:/Users/tayoi/insurance.csv\",ages,'age')\n",
    "save_data(\"C:/Users/tayoi/insurance.csv\",gender,'sex')\n",
    "save_data(\"C:/Users/tayoi/insurance.csv\",bmis,'bmi')\n",
    "save_data(\"C:/Users/tayoi/insurance.csv\",num_children,'children')\n",
    "save_data(\"C:/Users/tayoi/insurance.csv\",is_smoker,'smoker')\n",
    "save_data(\"C:/Users/tayoi/insurance.csv\",insurance_costs,'charges')"
   ]
  },
  {
   "cell_type": "code",
   "execution_count": 7,
   "metadata": {},
   "outputs": [],
   "source": [
    "# Convert Numerical Strings to integers/float\n",
    "ages = [int(x) for x in ages]\n",
    "bmis = [float(x) for x in bmis]\n",
    "num_children = [int(x) for x in num_children]\n",
    "insurance_costs = [float(x) for x in insurance_costs]"
   ]
  },
  {
   "cell_type": "code",
   "execution_count": 8,
   "metadata": {},
   "outputs": [],
   "source": [
    "# Add insurance costs to cost list for men who don't smoke or have children\n",
    "# Add age\n",
    "cost = []\n",
    "male_age = []\n",
    "\n",
    "for i in range(len(ages)):\n",
    "    if gender[i] == 'male' and is_smoker[i] == 'no' and num_children[i] == 0:\n",
    "        cost.append(insurance_costs[i])\n",
    "        male_age.append(ages[i])"
   ]
  },
  {
   "cell_type": "code",
   "execution_count": 9,
   "metadata": {},
   "outputs": [
    {
     "name": "stdout",
     "output_type": "stream",
     "text": [
      "223\n",
      "223\n"
     ]
    }
   ],
   "source": [
    "# Test if lst size are equal\n",
    "print(len(male_age))\n",
    "print(len(cost))"
   ]
  },
  {
   "cell_type": "code",
   "execution_count": 10,
   "metadata": {
    "scrolled": true
   },
   "outputs": [
    {
     "data": {
      "image/png": "[encoded data removed]",
      "text/plain": [
       "<Figure size 576x576 with 1 Axes>"
      ]
     },
     "metadata": {
      "needs_background": "light"
     },
     "output_type": "display_data"
    },
    {
     "name": "stdout",
     "output_type": "stream",
     "text": [
      "Correlation: 0.7394574896276612\n",
      "Positive Correlation\n"
     ]
    }
   ],
   "source": [
    "# Create a Scatter Plot and Implement Linear Regression\n",
    "\n",
    "x = male_age\n",
    "y = cost\n",
    "\n",
    "slope, intercept, r, p, std_err = stats.linregress(x, y)\n",
    "\n",
    "def calc_line(x):\n",
    "  return slope * x + intercept\n",
    "\n",
    "mymodel = list(map(calc_line, x))\n",
    "\n",
    "plt.scatter(x, y)\n",
    "plt.title(\"Male Age vs Insurance Cost\")\n",
    "plt.gcf().set_size_inches((8, 8))\n",
    "plt.plot(x, mymodel)\n",
    "plt.show()\n",
    "print(\"Correlation: {}\".format(r))\n",
    "print(\"Positive Correlation\")"
   ]
  },
  {
   "cell_type": "code",
   "execution_count": 11,
   "metadata": {},
   "outputs": [
    {
     "name": "stdout",
     "output_type": "stream",
     "text": [
      "Prediction Insurance Cost for a male at age 30: 5085.73948265966\n",
      "Prediction Insurance Cost for a male at age 40: 7767.736454410256\n",
      "Given the Prediction, a male at age 30 is expected to pay less than a male at age 40\n"
     ]
    }
   ],
   "source": [
    "# Predict Insurance Cost based on age\n",
    "print(\"Prediction Insurance Cost for a male at age 30: {}\".format(calc_line(30)))\n",
    "print(\"Prediction Insurance Cost for a male at age 40: {}\".format(calc_line(40)))\n",
    "\n",
    "print(\"Given the Prediction, a male at age 30 is expected to pay less than a male at age 40\")"
   ]
  },
  {
   "cell_type": "code",
   "execution_count": 12,
   "metadata": {},
   "outputs": [
    {
     "name": "stdout",
     "output_type": "stream",
     "text": [
      "Average Insurance Cost: 7530.806677085201\n",
      "Median Insurance Cost: 6358.77645\n",
      "ModeResult(mode=array([1639.5631]), count=array([2]))\n"
     ]
    },
    {
     "name": "stderr",
     "output_type": "stream",
     "text": [
      "C:\\Users\\tayoi\\AppData\\Local\\Temp\\ipykernel_11584\\269635842.py:4: FutureWarning: Unlike other reduction functions (e.g. `skew`, `kurtosis`), the default behavior of `mode` typically preserves the axis it acts along. In SciPy 1.11.0, this behavior will change: the default value of `keepdims` will become False, the `axis` over which the statistic is taken will be eliminated, and the value None will no longer be accepted. Set `keepdims` to True or False to avoid this warning.\n",
      "  mode_cost = stats.mode(cost)\n"
     ]
    }
   ],
   "source": [
    "# Calculate mean, median, and mode of insurance costs\n",
    "mean_cost = np.mean(cost)\n",
    "median_cost = np.median(cost)\n",
    "mode_cost = stats.mode(cost)\n",
    "\n",
    "print(\"Average Insurance Cost: {}\".format(mean_cost))\n",
    "print(\"Median Insurance Cost: {}\".format(median_cost))\n",
    "print(mode_cost)"
   ]
  },
  {
   "cell_type": "code",
   "execution_count": 13,
   "metadata": {},
   "outputs": [
    {
     "name": "stdout",
     "output_type": "stream",
     "text": [
      "Average Age: 39.11659192825112\n",
      "Median Age: 39.0\n",
      "ModeResult(mode=array([19]), count=array([20]))\n"
     ]
    },
    {
     "name": "stderr",
     "output_type": "stream",
     "text": [
      "C:\\Users\\tayoi\\AppData\\Local\\Temp\\ipykernel_11584\\2161707414.py:4: FutureWarning: Unlike other reduction functions (e.g. `skew`, `kurtosis`), the default behavior of `mode` typically preserves the axis it acts along. In SciPy 1.11.0, this behavior will change: the default value of `keepdims` will become False, the `axis` over which the statistic is taken will be eliminated, and the value None will no longer be accepted. Set `keepdims` to True or False to avoid this warning.\n",
      "  mode_age = stats.mode(male_age)\n"
     ]
    }
   ],
   "source": [
    "# Calculate mean, median, and mode of male age\n",
    "mean_age = np.mean(male_age)\n",
    "median_age = np.median(male_age)\n",
    "mode_age = stats.mode(male_age)\n",
    "\n",
    "print(\"Average Age: {}\".format(mean_age))\n",
    "print(\"Median Age: {}\".format(median_age))\n",
    "print(mode_age)"
   ]
  },
  {
   "cell_type": "markdown",
   "metadata": {},
   "source": [
    "### From the result I am able to conclude that with a relationship of 0.74, there's a positive correlation between the age of a male who is not a smoker and doesn't have children and insurance costs.\n",
    "\n",
    "### From this model, I am able to predict the insurance cost of a male given the age"
   ]
  }
 ],
 "metadata": {
  "kernelspec": {
   "display_name": "Python 3.8.5 32-bit",
   "language": "python",
   "name": "python3"
  },
  "language_info": {
   "codemirror_mode": {
    "name": "ipython",
    "version": 3
   },
   "file_extension": ".py",
   "mimetype": "text/x-python",
   "name": "python",
   "nbconvert_exporter": "python",
   "pygments_lexer": "ipython3",
   "version": "3.8.5"
  },
  "vscode": {
   "interpreter": {
    "hash": "3d13badaf627dc6dea56e3fec1bd550b9512fd0b5c5f4759dd8ee5c926b26d5f"
   }
  }
 },
 "nbformat": 4,
 "nbformat_minor": 4
}
